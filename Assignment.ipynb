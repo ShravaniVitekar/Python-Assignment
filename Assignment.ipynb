{
 "cells": [
  {
   "cell_type": "markdown",
   "id": "04fd8f75-f453-40c9-adf0-3bf0816b0eaf",
   "metadata": {},
   "source": [
    "## Q. 1)  Create 2 lists from a given list where \n",
    "      # first list will contain all the odd numbers from the original list and \n",
    "      # the 2nd one will contain all the  even numbers\n",
    "      L=[1,2,3, 4,5,6]\n",
    "   "
   ]
  },
  {
   "cell_type": "code",
   "execution_count": 1,
   "id": "229937d1-bf54-4b6b-84d7-47f303622193",
   "metadata": {},
   "outputs": [
    {
     "name": "stdout",
     "output_type": "stream",
     "text": [
      "[1, 3, 5]\n",
      "[2, 4, 6]\n"
     ]
    }
   ],
   "source": [
    "L=[1,2,3,4,5,6] \n",
    "odd_list=[num for num in L if num%2!=0]\n",
    "even_list=[num for num in L if num%2==0]\n",
    "print(odd_list)\n",
    "print(even_list)\n",
    "        "
   ]
  },
  {
   "cell_type": "markdown",
   "id": "268aa7c6-10da-4e65-88df-b4d2da3d0c85",
   "metadata": {},
   "source": [
    "## Q.2) How to take list as input from user"
   ]
  },
  {
   "cell_type": "code",
   "execution_count": 29,
   "id": "8eaf930d-187b-462d-91b9-0c096f2f9681",
   "metadata": {},
   "outputs": [
    {
     "name": "stdin",
     "output_type": "stream",
     "text": [
      "Enter the length of the list 6\n",
      " 1\n",
      " 2\n",
      " 3\n",
      " 4\n",
      " 5\n",
      " 6\n"
     ]
    },
    {
     "name": "stdout",
     "output_type": "stream",
     "text": [
      "6\n"
     ]
    }
   ],
   "source": [
    "x=[]\n",
    "n=int(input(\"Enter the length of the list\"))\n",
    "for i in range(n):\n",
    "    x.append(int(input()))\n",
    "print(n)"
   ]
  },
  {
   "cell_type": "markdown",
   "id": "b6589d4a-7bc5-4cc7-9754-a0248ef1433d",
   "metadata": {},
   "source": [
    "## Q 3) Write a program to merge 2 list without using the + operator\n",
    "     L1=[1,2,3,4]\n",
    "     L2=[5,6,7,8]"
   ]
  },
  {
   "cell_type": "code",
   "execution_count": 30,
   "id": "c4a50939-c980-4948-b796-f16027a242f2",
   "metadata": {},
   "outputs": [
    {
     "name": "stdout",
     "output_type": "stream",
     "text": [
      "[1, 2, 3, 4, 5, 6, 7, 8]\n"
     ]
    }
   ],
   "source": [
    "L1=[1,2,3,4]\n",
    "L2=[5,6,7,8]\n",
    "L1.extend(L2)\n",
    "print(L1)"
   ]
  },
  {
   "cell_type": "markdown",
   "id": "7521bb0c-28cc-4ebf-b532-67259a65a4fa",
   "metadata": {},
   "source": [
    "## Q.4) Write a program to replace an item with a different item if found in the list \n",
    "     L=[1,2,3,4,5,3]\n",
    "    # replace 3 with 300"
   ]
  },
  {
   "cell_type": "code",
   "execution_count": 70,
   "id": "89990faa-7f52-4a73-9bf4-54e5e6e8c630",
   "metadata": {
    "scrolled": true
   },
   "outputs": [
    {
     "name": "stdout",
     "output_type": "stream",
     "text": [
      "[1, 2, 3, 4, 5, 300]\n"
     ]
    }
   ],
   "source": [
    "L=[1,2,3,4,5,3]\n",
    "index=L.index(5)\n",
    "L[-1]=300 # By using listname[-1] we can accessing the last element of the list,and assigning a new value to it.it will replace the old last element with the new element\n",
    "print(L)\n",
    "\n"
   ]
  },
  {
   "cell_type": "markdown",
   "id": "79a7302a-86f1-4524-b190-7d723fe1d9cf",
   "metadata": {},
   "source": [
    "## Q.5) write a program that can convert a 2D list to 1D list"
   ]
  },
  {
   "cell_type": "code",
   "execution_count": 2,
   "id": "057f5a55-b1ec-42a8-bd52-e8b5d6213213",
   "metadata": {},
   "outputs": [
    {
     "name": "stdout",
     "output_type": "stream",
     "text": [
      "first list [[1, 2, 3], [3, 6, 7], [7, 5, 4]]\n",
      "last list [1, 2, 3, 3, 6, 7, 7, 5, 4]\n"
     ]
    }
   ],
   "source": [
    "# using chain from_iterables hence import chain\n",
    "from itertools import chain\n",
    "first_list=[[1,2,3],\n",
    "         [3,6,7],\n",
    "         [7,5,4]]\n",
    "print(\"first list\",str(first_list))\n",
    "flatten_list=list(chain.from_iterable(first_list))\n",
    "print(\"last list\",str(flatten_list))\n"
   ]
  },
  {
   "cell_type": "markdown",
   "id": "a89ce509-732e-4904-90e2-78fb9609f013",
   "metadata": {},
   "source": [
    "## Q. 6) Write a program to remove duplicate items from a list\n",
    "\n",
    "L=[1,2,1,2,3,4,5,3,4]"
   ]
  },
  {
   "cell_type": "code",
   "execution_count": 87,
   "id": "3ba92044-000d-478e-8653-d739907007c1",
   "metadata": {},
   "outputs": [
    {
     "name": "stdout",
     "output_type": "stream",
     "text": [
      "[1, 2, 3, 4, 5]\n"
     ]
    }
   ],
   "source": [
    "L=[1,2,1,2,3,4,5,3,4]\n",
    "L=list(set(L))\n",
    "L=[x for i,x in enumerate(L)if L.index(x)==i]\n",
    "print(list(dict.fromkeys(L)))"
   ]
  },
  {
   "cell_type": "markdown",
   "id": "d9d95b27-fae8-4ffa-91ac-cf4507a2c742",
   "metadata": {},
   "source": [
    "# Q. 7) Write a program to check if a list is in ascending order or not"
   ]
  },
  {
   "cell_type": "code",
   "execution_count": 35,
   "id": "d0a81609-a60b-436d-89a2-2a06ef6791f8",
   "metadata": {},
   "outputs": [
    {
     "name": "stdout",
     "output_type": "stream",
     "text": [
      "True\n",
      "False\n"
     ]
    }
   ],
   "source": [
    "def is_ascending(list):\n",
    "    for i in range(len(list)-1):\n",
    "        if list[i]>list[i+1]:\n",
    "           return False\n",
    "    return  True\n",
    "    list1=[1,2,3,4,5]\n",
    "    list2=[6,3,4,7,1]\n",
    "\n",
    "print(is_ascending(list1))\n",
    "print(is_ascending(list2))"
   ]
  },
  {
   "cell_type": "code",
   "execution_count": null,
   "id": "827b3908-4d9e-4eb8-aacc-2a545d6d90e7",
   "metadata": {},
   "outputs": [],
   "source": []
  },
  {
   "cell_type": "code",
   "execution_count": null,
   "id": "4b0a17e8-779f-4eef-923f-de02c0364f0f",
   "metadata": {},
   "outputs": [],
   "source": []
  },
  {
   "cell_type": "code",
   "execution_count": null,
   "id": "c622be31-9aa5-41f3-b452-27adffe8cccb",
   "metadata": {},
   "outputs": [],
   "source": []
  }
 ],
 "metadata": {
  "kernelspec": {
   "display_name": "Python 3 (ipykernel)",
   "language": "python",
   "name": "python3"
  },
  "language_info": {
   "codemirror_mode": {
    "name": "ipython",
    "version": 3
   },
   "file_extension": ".py",
   "mimetype": "text/x-python",
   "name": "python",
   "nbconvert_exporter": "python",
   "pygments_lexer": "ipython3",
   "version": "3.11.7"
  }
 },
 "nbformat": 4,
 "nbformat_minor": 5
}
